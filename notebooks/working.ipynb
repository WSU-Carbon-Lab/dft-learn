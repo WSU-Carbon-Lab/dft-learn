{
 "cells": [
  {
   "cell_type": "code",
   "execution_count": 18,
   "id": "63aace8d",
   "metadata": {},
   "outputs": [],
   "source": [
    "import pandas as pd\n",
    "import matplotlib.pyplot as plt\n",
    "import seaborn as sns"
   ]
  },
  {
   "cell_type": "code",
   "execution_count": 33,
   "id": "33a516a3",
   "metadata": {},
   "outputs": [
    {
     "data": {
      "application/vnd.microsoft.datawrangler.viewer.v0+json": {
       "columns": [
        {
         "name": "paramNames",
         "rawType": "object",
         "type": "string"
        },
        {
         "name": "pwFinal",
         "rawType": "float64",
         "type": "float"
        },
        {
         "name": "pwCopy",
         "rawType": "float64",
         "type": "float"
        },
        {
         "name": "pwMolAdj",
         "rawType": "float64",
         "type": "float"
        }
       ],
       "ref": "7ec2d61c-faea-4eb2-ba05-cf27b89d5cee",
       "rows": [
        [
         "C1_IP",
         "291.9686279296875",
         "291.9686279296875",
         "291.9686279296875"
        ],
        [
         "C2_IP",
         "290.4575805664062",
         "290.4575805664062",
         "290.4575805664062"
        ],
        [
         "C3_IP",
         "290.1923522949219",
         "290.1923522949219",
         "290.1923522949219"
        ],
        [
         "C4_IP",
         "290.1376953125",
         "290.1376953125",
         "290.1376953125"
        ],
        [
         "LocalAlpha_0",
         "62.0",
         "62.0",
         "62.0"
        ],
        [
         "LocalAlpha_1",
         "62.0",
         "62.0",
         "62.0"
        ],
        [
         "LocalAlpha_10",
         "62.0",
         "62.0",
         "62.0"
        ],
        [
         "LocalAlpha_11",
         "62.0",
         "62.0",
         "62.0"
        ],
        [
         "LocalAlpha_12",
         "62.0",
         "62.0",
         "62.0"
        ],
        [
         "LocalAlpha_13",
         "62.0",
         "62.0",
         "62.0"
        ],
        [
         "LocalAlpha_14",
         "62.0",
         "62.0",
         "62.0"
        ],
        [
         "LocalAlpha_15",
         "62.0",
         "62.0",
         "62.0"
        ],
        [
         "LocalAlpha_16",
         "62.0",
         "62.0",
         "62.0"
        ],
        [
         "LocalAlpha_17",
         "62.0",
         "62.0",
         "62.0"
        ],
        [
         "LocalAlpha_18",
         "62.0",
         "62.0",
         "62.0"
        ],
        [
         "LocalAlpha_2",
         "62.0",
         "62.0",
         "62.0"
        ],
        [
         "LocalAlpha_3",
         "62.0",
         "62.0",
         "62.0"
        ],
        [
         "LocalAlpha_4",
         "62.0",
         "62.0",
         "62.0"
        ],
        [
         "LocalAlpha_5",
         "62.0",
         "62.0",
         "62.0"
        ],
        [
         "LocalAlpha_6",
         "62.0",
         "62.0",
         "62.0"
        ],
        [
         "LocalAlpha_7",
         "62.0",
         "62.0",
         "62.0"
        ],
        [
         "LocalAlpha_8",
         "62.0",
         "62.0",
         "62.0"
        ],
        [
         "LocalAlpha_9",
         "62.0",
         "62.0",
         "62.0"
        ],
        [
         "MolTensorTheta_0",
         "0.0777861714034017",
         "0.0",
         "0.0777861714034017"
        ],
        [
         "MolTensorTheta_1",
         "0.0071122091513769",
         "0.0",
         "0.0071122091513769"
        ],
        [
         "MolTensorTheta_10",
         "-11.59579726134715",
         "0.0",
         "-11.59579726134715"
        ],
        [
         "MolTensorTheta_11",
         "-10.97299668934769",
         "0.0",
         "-10.97299668934769"
        ],
        [
         "MolTensorTheta_12",
         "25.53271712132938",
         "0.0",
         "25.53271712132938"
        ],
        [
         "MolTensorTheta_13",
         "-30.09921861532477",
         "0.0",
         "-30.09921861532477"
        ],
        [
         "MolTensorTheta_14",
         "-10.70616221131417",
         "0.0",
         "-10.70616221131417"
        ],
        [
         "MolTensorTheta_15",
         "-20.07602614993703",
         "0.0",
         "-20.07602614993703"
        ],
        [
         "MolTensorTheta_16",
         "-34.8016300968305",
         "0.0",
         "-34.8016300968305"
        ],
        [
         "MolTensorTheta_17",
         "-19.39316460651746",
         "0.0",
         "-19.39316460651746"
        ],
        [
         "MolTensorTheta_18",
         "-2.024459194389246",
         "0.0",
         "-2.023459194341748"
        ],
        [
         "MolTensorTheta_2",
         "-0.0073440141059637",
         "0.0",
         "-0.0073440141059637"
        ],
        [
         "MolTensorTheta_3",
         "1.417216415971835",
         "0.0",
         "1.417216415971835"
        ],
        [
         "MolTensorTheta_4",
         "6.889540557272291",
         "0.0",
         "6.889540557272291"
        ],
        [
         "MolTensorTheta_5",
         "-3.146176982028928",
         "0.0",
         "-3.146176982028928"
        ],
        [
         "MolTensorTheta_6",
         "-11.68805698712535",
         "0.0",
         "-11.68805698712535"
        ],
        [
         "MolTensorTheta_7",
         "-13.15142769766515",
         "0.0",
         "-13.15142769766515"
        ],
        [
         "MolTensorTheta_8",
         "18.89499580766793",
         "0.0",
         "18.89499580766793"
        ],
        [
         "MolTensorTheta_9",
         "-5.005001949544936",
         "0.0",
         "-5.005001949544936"
        ],
        [
         "OSxx_0",
         "1.363144530586169e-08",
         "1.363144530586169e-08",
         "0.001355841755867"
        ],
        [
         "OSxx_1",
         "3.2113995018789865e-08",
         "3.2113995018789865e-08",
         "0.00012250529835"
        ],
        [
         "OSxx_10",
         "0.0008077434031292",
         "0.0008077434031292",
         "0.2752785682678223"
        ],
        [
         "OSxx_11",
         "0.0016446581576019",
         "0.0016446581576019",
         "0.267983078956604"
        ],
        [
         "OSxx_12",
         "0.0168059691786766",
         "0.0168059691786766",
         "0.6778349280357361"
        ],
        [
         "OSxx_13",
         "0.0285776052623987",
         "0.0285776052623987",
         "0.9804763793945312"
        ],
        [
         "OSxx_14",
         "0.0159205272793769",
         "0.0159205272793769",
         "0.9891624450683594"
        ],
        [
         "OSxx_15",
         "0.0527638867497444",
         "0.0527638867497444",
         "0.9999596476554872"
        ]
       ],
       "shape": {
        "columns": 3,
        "rows": 217
       }
      },
      "text/html": [
       "<div>\n",
       "<style scoped>\n",
       "    .dataframe tbody tr th:only-of-type {\n",
       "        vertical-align: middle;\n",
       "    }\n",
       "\n",
       "    .dataframe tbody tr th {\n",
       "        vertical-align: top;\n",
       "    }\n",
       "\n",
       "    .dataframe thead th {\n",
       "        text-align: right;\n",
       "    }\n",
       "</style>\n",
       "<table border=\"1\" class=\"dataframe\">\n",
       "  <thead>\n",
       "    <tr style=\"text-align: right;\">\n",
       "      <th></th>\n",
       "      <th>pwFinal</th>\n",
       "      <th>pwCopy</th>\n",
       "      <th>pwMolAdj</th>\n",
       "    </tr>\n",
       "    <tr>\n",
       "      <th>paramNames</th>\n",
       "      <th></th>\n",
       "      <th></th>\n",
       "      <th></th>\n",
       "    </tr>\n",
       "  </thead>\n",
       "  <tbody>\n",
       "    <tr>\n",
       "      <th>C1_IP</th>\n",
       "      <td>291.968628</td>\n",
       "      <td>291.968628</td>\n",
       "      <td>291.968628</td>\n",
       "    </tr>\n",
       "    <tr>\n",
       "      <th>C2_IP</th>\n",
       "      <td>290.457581</td>\n",
       "      <td>290.457581</td>\n",
       "      <td>290.457581</td>\n",
       "    </tr>\n",
       "    <tr>\n",
       "      <th>C3_IP</th>\n",
       "      <td>290.192352</td>\n",
       "      <td>290.192352</td>\n",
       "      <td>290.192352</td>\n",
       "    </tr>\n",
       "    <tr>\n",
       "      <th>C4_IP</th>\n",
       "      <td>290.137695</td>\n",
       "      <td>290.137695</td>\n",
       "      <td>290.137695</td>\n",
       "    </tr>\n",
       "    <tr>\n",
       "      <th>LocalAlpha_0</th>\n",
       "      <td>62.000000</td>\n",
       "      <td>62.000000</td>\n",
       "      <td>62.000000</td>\n",
       "    </tr>\n",
       "    <tr>\n",
       "      <th>...</th>\n",
       "      <td>...</td>\n",
       "      <td>...</td>\n",
       "      <td>...</td>\n",
       "    </tr>\n",
       "    <tr>\n",
       "      <th>peakWidth_6</th>\n",
       "      <td>0.255983</td>\n",
       "      <td>0.226147</td>\n",
       "      <td>0.255983</td>\n",
       "    </tr>\n",
       "    <tr>\n",
       "      <th>peakWidth_7</th>\n",
       "      <td>0.275329</td>\n",
       "      <td>0.251038</td>\n",
       "      <td>0.275329</td>\n",
       "    </tr>\n",
       "    <tr>\n",
       "      <th>peakWidth_8</th>\n",
       "      <td>0.217190</td>\n",
       "      <td>0.233686</td>\n",
       "      <td>0.217190</td>\n",
       "    </tr>\n",
       "    <tr>\n",
       "      <th>peakWidth_9</th>\n",
       "      <td>0.259740</td>\n",
       "      <td>0.216757</td>\n",
       "      <td>0.259740</td>\n",
       "    </tr>\n",
       "    <tr>\n",
       "      <th>phi</th>\n",
       "      <td>0.000000</td>\n",
       "      <td>0.000000</td>\n",
       "      <td>0.000000</td>\n",
       "    </tr>\n",
       "  </tbody>\n",
       "</table>\n",
       "<p>217 rows × 3 columns</p>\n",
       "</div>"
      ],
      "text/plain": [
       "                 pwFinal      pwCopy    pwMolAdj\n",
       "paramNames                                      \n",
       "C1_IP         291.968628  291.968628  291.968628\n",
       "C2_IP         290.457581  290.457581  290.457581\n",
       "C3_IP         290.192352  290.192352  290.192352\n",
       "C4_IP         290.137695  290.137695  290.137695\n",
       "LocalAlpha_0   62.000000   62.000000   62.000000\n",
       "...                  ...         ...         ...\n",
       "peakWidth_6     0.255983    0.226147    0.255983\n",
       "peakWidth_7     0.275329    0.251038    0.275329\n",
       "peakWidth_8     0.217190    0.233686    0.217190\n",
       "peakWidth_9     0.259740    0.216757    0.259740\n",
       "phi             0.000000    0.000000    0.000000\n",
       "\n",
       "[217 rows x 3 columns]"
      ]
     },
     "execution_count": 33,
     "metadata": {},
     "output_type": "execute_result"
    }
   ],
   "source": [
    "params_ini = pd.read_csv(\"params_ini.csv\")\n",
    "params_mol = pd.read_csv(\"params_mol.csv\")\n",
    "params = pd.read_csv(\"params_final.csv\")\n",
    "names = pd.read_csv(\"names.csv\")\n",
    "\n",
    "# add the names as an index col\n",
    "params = params.set_index(names[\"paramNames\"])\n",
    "params_ini = params_ini.set_index(names[\"paramNames\"])\n",
    "params_mol = params_mol.set_index(names[\"paramNames\"])\n",
    "params = params.join(params_ini, how=\"outer\", lsuffix=\"_final\", rsuffix=\"_ini\")\n",
    "params = params.join(params_mol, how=\"outer\", lsuffix=\"_final\", rsuffix=\"_mol\")\n",
    "params"
   ]
  },
  {
   "cell_type": "code",
   "execution_count": null,
   "id": "3db350e7",
   "metadata": {},
   "outputs": [
    {
     "name": "stdout",
     "output_type": "stream",
     "text": [
      "Polar angle: 0.009926 deg\n",
      "Polar angle initial: 0.000132 deg\n",
      "Polar angle final: 0.021241 deg\n"
     ]
    }
   ],
   "source": [
    "import numpy as np\n",
    "\n",
    "target_dipole = params.loc[[\"OSxx_1\", \"OSyy_1\", \"OSzz_1\"]].to_numpy().flatten()\n",
    "target_dipole_ini = params_ini.loc[[\"OSxx_1\", \"OSyy_1\", \"OSzz_1\"]].to_numpy().flatten()\n",
    "target_dipole_mol = params_mol.loc[[\"OSxx_1\", \"OSyy_1\", \"OSzz_1\"]].to_numpy().flatten()\n",
    "# Calsulate the angle of the dipole vector\n",
    "in_plane_dipole = (target_dipole[0] ** 2 + target_dipole[1] ** 2) ** 0.5\n",
    "polar_angle = np.arctan2(in_plane_dipole, target_dipole[2])\n",
    "polar_angle_deg = np.rad2deg(polar_angle)\n",
    "\n",
    "polar_angle_deg_ini = np.rad2deg(\n",
    "    np.arctan2(\n",
    "        (target_dipole_ini[0] ** 2 + target_dipole_ini[1] ** 2) ** 0.5,\n",
    "        target_dipole_ini[2],\n",
    "    )\n",
    ")\n",
    "polar_angle_deg_mol = np.rad2deg(\n",
    "    np.arctan2(\n",
    "        (target_dipole_mol[0] ** 2 + target_dipole_mol[1] ** 2) ** 0.5,\n",
    "        target_dipole_mol[2],\n",
    "    )\n",
    ")\n",
    "\n",
    "print(f\"Polar angle: {polar_angle_deg_mol:.6f} deg\")\n",
    "print(f\"Polar angle initial: {polar_angle_deg_ini:.6f} deg\")\n",
    "print(f\"Polar angle final: {polar_angle_deg:.6f} deg\")\n"
   ]
  },
  {
   "cell_type": "code",
   "execution_count": null,
   "id": "8db8bde0",
   "metadata": {},
   "outputs": [],
   "source": []
  }
 ],
 "metadata": {
  "kernelspec": {
   "display_name": "dft-learn",
   "language": "python",
   "name": "python3"
  },
  "language_info": {
   "codemirror_mode": {
    "name": "ipython",
    "version": 3
   },
   "file_extension": ".py",
   "mimetype": "text/x-python",
   "name": "python",
   "nbconvert_exporter": "python",
   "pygments_lexer": "ipython3",
   "version": "3.12.8"
  }
 },
 "nbformat": 4,
 "nbformat_minor": 5
}
